{
 "cells": [
  {
   "cell_type": "code",
   "execution_count": 1,
   "metadata": {},
   "outputs": [],
   "source": [
    "from __future__ import print_function\n",
    "import numpy as np\n",
    "from time import time\n",
    "import pandas as pd"
   ]
  },
  {
   "cell_type": "code",
   "execution_count": 3,
   "metadata": {},
   "outputs": [],
   "source": [
    "d, N = 1000, 10000 # dimension, number of training points\n",
    "X = np.random.randn(N, d) # N d-dimensional points\n",
    "z = np.random.randn(d)"
   ]
  },
  {
   "cell_type": "code",
   "execution_count": 4,
   "metadata": {},
   "outputs": [],
   "source": [
    "# naively compute square distance between two vector\n",
    "def dist_pp(z, x):\n",
    "    d = z - x.reshape(z.shape) # force x and z to have the same dims\n",
    "    return np.sum(d*d) #this return ||z-X[i]||(2,2)"
   ]
  },
  {
   "cell_type": "code",
   "execution_count": 5,
   "metadata": {},
   "outputs": [],
   "source": [
    "# from one point to each point in a set, naive\n",
    "def dist_ps_naive(z, X):\n",
    "    N = X.shape[0]\n",
    "    res = np.zeros((1, N))\n",
    "    for i in range(N):\n",
    "        res[0][i] = dist_pp(z, X[i])\n",
    "    return res #this return the vector contain the distance of vector z to each vector in X, just simply a for loop"
   ]
  },
  {
   "attachments": {
    "image.png": {
     "image/png": "[encoded data removed]"
    }
   },
   "cell_type": "markdown",
   "metadata": {},
   "source": [
    "![](attachment:image.png)"
   ]
  },
  {
   "cell_type": "code",
   "execution_count": 6,
   "metadata": {},
   "outputs": [],
   "source": [
    "# from one point to each point in a set, fast\n",
    "def dist_ps_fast(z, X):\n",
    "    X2 = np.sum(X*X, 1) # square of l2 norm of each X[i], can be precomputed\n",
    "    z2 = np.sum(z*z) # square of l2 norm of z\n",
    "    return X2 + z2 - 2*X.dot(z) # z2 can be ignored\n"
   ]
  },
  {
   "cell_type": "code",
   "execution_count": 7,
   "metadata": {},
   "outputs": [
    {
     "name": "stdout",
     "output_type": "stream",
     "text": [
      "naive point2set, running time: 0.08177924156188965 s\n",
      "fast point2set , running time: 0.05130481719970703 s\n",
      "Result difference: 2.0798167264856508e-11\n"
     ]
    }
   ],
   "source": [
    "t1 = time()\n",
    "D1 = dist_ps_naive(z, X)\n",
    "print('naive point2set, running time:', time() - t1, 's')\n",
    "t1 = time()\n",
    "D2 = dist_ps_fast(z, X)\n",
    "print('fast point2set , running time:', time() - t1, 's')\n",
    "print('Result difference:', np.linalg.norm(D1 - D2))"
   ]
  },
  {
   "cell_type": "markdown",
   "metadata": {},
   "source": [
    "We can see that the fast approach is 2 time faster than the previous one, because we calculate on a matrix instead of using for loop which is \n",
    "0(1) and O(n), the difference in run time between these two aproaches will be even bigger when we train a set of larger observations and data points, let say 1 billion of data points etc."
   ]
  },
  {
   "cell_type": "markdown",
   "metadata": {},
   "source": [
    "Now, normally there are a lot of z point to calculate the distance, we see that with each z represented by a vector we have matrix Z to represented the points need to calculate. So we come up with some method to optimize the time:"
   ]
  },
  {
   "cell_type": "code",
   "execution_count": 8,
   "metadata": {},
   "outputs": [],
   "source": [
    "Z = np.random.randn(100, d)\n",
    "# from each point in one set to each point in another set, half fast\n",
    "def dist_ss_0(Z, X):\n",
    "    M, N = Z.shape[0], X.shape[0]\n",
    "    res = np.zeros((M, N))\n",
    "    for i in range(M):\n",
    "        res[i] = dist_ps_fast(Z[i], X)\n",
    "    return res"
   ]
  },
  {
   "cell_type": "code",
   "execution_count": 9,
   "metadata": {},
   "outputs": [],
   "source": [
    "# from each point in one set to each point in another set, fast\n",
    "def dist_ss_fast(Z, X):\n",
    "    X2 = np.sum(X*X, 1) # square of l2 norm of each ROW of X\n",
    "    Z2 = np.sum(Z*Z, 1) # square of l2 norm of each ROW of Z\n",
    "    return Z2.reshape(-1, 1) + X2.reshape(1, -1) - 2*Z.dot(X.T)\n"
   ]
  },
  {
   "cell_type": "code",
   "execution_count": 10,
   "metadata": {},
   "outputs": [
    {
     "name": "stdout",
     "output_type": "stream",
     "text": [
      "half fast set2set running time: 5.751626253128052 s\n",
      "fast set2set running time 0.09264636039733887 s\n",
      "Result difference: 9.563921693549572e-11\n"
     ]
    }
   ],
   "source": [
    "t1 = time()\n",
    "D3 = dist_ss_0(Z, X)\n",
    "print('half fast set2set running time:', time() - t1, 's')\n",
    "t1 = time()\n",
    "D4 = dist_ss_fast(Z, X)\n",
    "print('fast set2set running time', time() - t1, 's')\n",
    "print('Result difference:', np.linalg.norm(D3 - D4))"
   ]
  },
  {
   "cell_type": "markdown",
   "metadata": {},
   "source": [
    "Well, seeing that when we have a lot of z to calculate, the time is about 40 time difference between 2 method, quite alot! \n",
    "The after work is for using scikit learn instead of rewrite the algorithm."
   ]
  },
  {
   "cell_type": "markdown",
   "metadata": {},
   "source": [
    "Trying with the Iris flower dataset."
   ]
  },
  {
   "cell_type": "code",
   "execution_count": 11,
   "metadata": {},
   "outputs": [],
   "source": [
    "from __future__ import print_function\n",
    "import numpy as np\n",
    "from sklearn import neighbors, datasets\n",
    "from sklearn.model_selection import train_test_split # for splitting data\n",
    "from sklearn.metrics import accuracy_score # for evaluating results"
   ]
  },
  {
   "cell_type": "code",
   "execution_count": 16,
   "metadata": {},
   "outputs": [
    {
     "data": {
      "text/plain": [
       "150"
      ]
     },
     "execution_count": 16,
     "metadata": {},
     "output_type": "execute_result"
    }
   ],
   "source": [
    "iris = datasets.load_iris()\n",
    "iris_X = iris.data\n",
    "iris_y = iris.target\n",
    "len(iris_X)"
   ]
  },
  {
   "cell_type": "code",
   "execution_count": 23,
   "metadata": {},
   "outputs": [
    {
     "name": "stdout",
     "output_type": "stream",
     "text": [
      "Labels: [0 1 2]\n",
      "Training size: 50 , test size: 100\n"
     ]
    }
   ],
   "source": [
    "print('Labels:', np.unique(iris_y))\n",
    "# split train and test\n",
    "np.random.seed(7)\n",
    "X_train, X_test, y_train, y_test = train_test_split(iris_X, iris_y, test_size=100) #50 for training and 100 for testing\n",
    "print('Training size:', X_train.shape[0], ', test size:', X_test.shape[0])"
   ]
  },
  {
   "cell_type": "code",
   "execution_count": 32,
   "metadata": {},
   "outputs": [
    {
     "name": "stdout",
     "output_type": "stream",
     "text": [
      "Accuracy of 3NN: 97.00 %\n"
     ]
    }
   ],
   "source": [
    "#build model -> we see that n_neighbors indicate number of nearest neighbor should be chosen, for example n_neighbors=1 we only take 1 neighbor\n",
    "#the p parameter is for norm, here is l2 norm\n",
    "model = neighbors.KNeighborsClassifier(n_neighbors = 3, p = 2, weights='distance') #let weights be the distance of data points\n",
    "model.fit(X_train, y_train)\n",
    "y_pred = model.predict(X_test)\n",
    "print(\"Accuracy of 3NN: %.2f %%\" %(100*accuracy_score(y_test, y_pred)))"
   ]
  },
  {
   "cell_type": "code",
   "execution_count": null,
   "metadata": {},
   "outputs": [],
   "source": []
  }
 ],
 "metadata": {
  "kernelspec": {
   "display_name": "Python 3",
   "language": "python",
   "name": "python3"
  },
  "language_info": {
   "codemirror_mode": {
    "name": "ipython",
    "version": 3
   },
   "file_extension": ".py",
   "mimetype": "text/x-python",
   "name": "python",
   "nbconvert_exporter": "python",
   "pygments_lexer": "ipython3",
   "version": "3.10.11"
  },
  "orig_nbformat": 4
 },
 "nbformat": 4,
 "nbformat_minor": 2
}
